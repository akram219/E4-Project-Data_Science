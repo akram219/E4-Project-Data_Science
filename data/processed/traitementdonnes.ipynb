{
 "cells": [
  {
   "cell_type": "code",
   "execution_count": 2,
   "metadata": {},
   "outputs": [],
   "source": [
    "import pandas as pd\n",
    "import numpy as np\n",
    "import seaborn as sns\n",
    "from matplotlib import pyplot as plt\n",
    "from mpl_toolkits.mplot3d import axes3d\n",
    "from sklearn.linear_model import LinearRegression\n",
    "from mpl_toolkits.mplot3d import Axes3D\n",
    "from sklearn.preprocessing import StandardScaler\n",
    "from sklearn.model_selection import train_test_split\n",
    "from sklearn.metrics import accuracy_score\n",
    "from sklearn.metrics import confusion_matrix\n",
    "\n",
    "#Loading all librairies we need"
   ]
  },
  {
   "cell_type": "code",
   "execution_count": 14,
   "metadata": {},
   "outputs": [
    {
     "data": {
      "text/html": [
       "<div>\n",
       "<style scoped>\n",
       "    .dataframe tbody tr th:only-of-type {\n",
       "        vertical-align: middle;\n",
       "    }\n",
       "\n",
       "    .dataframe tbody tr th {\n",
       "        vertical-align: top;\n",
       "    }\n",
       "\n",
       "    .dataframe thead th {\n",
       "        text-align: right;\n",
       "    }\n",
       "</style>\n",
       "<table border=\"1\" class=\"dataframe\">\n",
       "  <thead>\n",
       "    <tr style=\"text-align: right;\">\n",
       "      <th></th>\n",
       "      <th>Journée du 01/01/2023</th>\n",
       "      <th>Unnamed: 1</th>\n",
       "      <th>Unnamed: 2</th>\n",
       "      <th>Unnamed: 3</th>\n",
       "    </tr>\n",
       "  </thead>\n",
       "  <tbody>\n",
       "    <tr>\n",
       "      <th>0</th>\n",
       "      <td>Heures</td>\n",
       "      <td>PrévisionJ-1</td>\n",
       "      <td>PrévisionJ</td>\n",
       "      <td>Consommation</td>\n",
       "    </tr>\n",
       "    <tr>\n",
       "      <th>1</th>\n",
       "      <td>00:00</td>\n",
       "      <td>46800</td>\n",
       "      <td>48000</td>\n",
       "      <td>46008</td>\n",
       "    </tr>\n",
       "    <tr>\n",
       "      <th>2</th>\n",
       "      <td>00:15</td>\n",
       "      <td>46050</td>\n",
       "      <td>47500</td>\n",
       "      <td>46462</td>\n",
       "    </tr>\n",
       "    <tr>\n",
       "      <th>3</th>\n",
       "      <td>00:30</td>\n",
       "      <td>45500</td>\n",
       "      <td>47000</td>\n",
       "      <td>45349</td>\n",
       "    </tr>\n",
       "    <tr>\n",
       "      <th>4</th>\n",
       "      <td>00:45</td>\n",
       "      <td>44650</td>\n",
       "      <td>46350</td>\n",
       "      <td>44669</td>\n",
       "    </tr>\n",
       "  </tbody>\n",
       "</table>\n",
       "</div>"
      ],
      "text/plain": [
       "  Journée du 01/01/2023    Unnamed: 1  Unnamed: 2    Unnamed: 3\n",
       "0                Heures  PrévisionJ-1  PrévisionJ  Consommation\n",
       "1                 00:00         46800       48000         46008\n",
       "2                 00:15         46050       47500         46462\n",
       "3                 00:30         45500       47000         45349\n",
       "4                 00:45         44650       46350         44669"
      ]
     },
     "execution_count": 14,
     "metadata": {},
     "output_type": "execute_result"
    }
   ],
   "source": [
    "data = pd.read_csv('conso_mix_RTE_2023.csv', sep =\";\")\n",
    "data.head()"
   ]
  },
  {
   "cell_type": "code",
   "execution_count": 15,
   "metadata": {},
   "outputs": [
    {
     "name": "stdout",
     "output_type": "stream",
     "text": [
      "Journée du 01/01/2023     731\n",
      "Unnamed: 1               1192\n",
      "Unnamed: 2               1192\n",
      "Unnamed: 3               1193\n",
      "dtype: int64\n"
     ]
    }
   ],
   "source": [
    "print(data.isnull().sum())  # Compte les valeurs manquantes par colonne\n"
   ]
  },
  {
   "cell_type": "code",
   "execution_count": null,
   "metadata": {},
   "outputs": [],
   "source": [
    "import csv\n",
    "\n",
    "# Fonction pour réorganiser le fichier CSV\n",
    "def reformat_csv(input_file, output_file):\n",
    "    with open(input_file, newline='', encoding='utf-8') as infile, open(output_file, mode='w', newline='', encoding='utf-8') as outfile:\n",
    "        reader = csv.reader(infile, delimiter=';')\n",
    "        writer = csv.writer(outfile, delimiter=';')\n",
    "\n",
    "        # Variables pour suivre les dates et lignes de données\n",
    "        current_date = None\n",
    "        data = []\n",
    "\n",
    "        # Boucle à travers chaque ligne du fichier CSV\n",
    "        for row in reader:\n",
    "            # Si la ligne contient une date (début d'une journée)\n",
    "            if row[0].startswith('Journée du'):\n",
    "                # Si on a déjà une journée à écrire, on l'écrit avant de passer à la suivante\n",
    "                if current_date:\n",
    "                    writer.writerow([f'Journée du {current_date}'])\n",
    "                    # Écrire l'en-tête des colonnes\n",
    "                    writer.writerow(['Heure', 'PrévisionJ-1', 'PrévisionJ', 'Consommation'])\n",
    "                    # Écrire les données collectées pour la journée précédente\n",
    "                    writer.writerows(data)\n",
    "                    data = []  # Réinitialiser les données pour la nouvelle journée\n",
    "\n",
    "                # Extraire la date de la ligne \"Journée du\"\n",
    "                current_date = row[0].split('du ')[1].strip()\n",
    "\n",
    "            # Si la ligne contient des données horaires (après l'en-tête)\n",
    "            elif len(row) == 4:\n",
    "                data.append(row)\n",
    "\n",
    "        # Dernière journée\n",
    "        if current_date:\n",
    "            writer.writerow([f'Journée du {current_date}'])\n",
    "            writer.writerow(['Heure', 'PrévisionJ-1', 'PrévisionJ', 'Consommation'])\n",
    "            writer.writerows(data)\n",
    "\n",
    "# Exemple d'utilisation\n",
    "input_file = 'conso_mix_RTE_2023.csv'  # Remplacer par le nom de votre fichier CSV d'entrée\n",
    "output_file = '2023_reorga.csv'  # Nom du fichier de sortie\n",
    "\n",
    "reformat_csv(input_file, output_file)\n"
   ]
  },
  {
   "cell_type": "code",
   "execution_count": null,
   "metadata": {},
   "outputs": [],
   "source": []
  },
  {
   "cell_type": "code",
   "execution_count": null,
   "metadata": {},
   "outputs": [],
   "source": []
  },
  {
   "cell_type": "code",
   "execution_count": null,
   "metadata": {},
   "outputs": [],
   "source": []
  }
 ],
 "metadata": {
  "kernelspec": {
   "display_name": "Python 3",
   "language": "python",
   "name": "python3"
  },
  "language_info": {
   "codemirror_mode": {
    "name": "ipython",
    "version": 3
   },
   "file_extension": ".py",
   "mimetype": "text/x-python",
   "name": "python",
   "nbconvert_exporter": "python",
   "pygments_lexer": "ipython3",
   "version": "3.12.9"
  }
 },
 "nbformat": 4,
 "nbformat_minor": 2
}
